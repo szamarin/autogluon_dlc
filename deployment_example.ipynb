{
 "cells": [
  {
   "cell_type": "code",
   "execution_count": 2,
   "id": "7a97e151",
   "metadata": {},
   "outputs": [],
   "source": [
    "%%capture\n",
    "!make build_train_cpu\n",
    "!make push_train_cpu\n",
    "!make build_inference_cpu\n",
    "!make push_inference_cpu "
   ]
  },
  {
   "cell_type": "code",
   "execution_count": 94,
   "id": "8770d4f4",
   "metadata": {},
   "outputs": [],
   "source": [
    "import boto3\n",
    "import time\n",
    "import sagemaker\n",
    "import pandas as pd\n",
    "import numpy as np\n",
    "from sagemaker.estimator import Framework\n",
    "from sagemaker.mxnet import MXNetModel"
   ]
  },
  {
   "cell_type": "code",
   "execution_count": 39,
   "id": "99885eeb",
   "metadata": {},
   "outputs": [],
   "source": [
    "ecr_serving_repo = \"autogluon-inference-cpu\"\n",
    "ecr_training_repo = \"autogluon-cpu\"\n",
    "role = sagemaker.get_execution_role()\n",
    "sess = sagemaker.session.Session()\n",
    "s3_bucket = sess.default_bucket()\n",
    "s3_key = \"autogluon-example\"\n",
    "region = sess._region_name\n",
    "account = boto3.client(\"sts\").get_caller_identity().get(\"Account\")\n",
    "training_image_uri = f\"{account}.dkr.ecr.{region}.amazonaws.com/{ecr_training_repo}:latest\"\n",
    "serving_image_uri = f\"{account}.dkr.ecr.{region}.amazonaws.com/{ecr_serving_repo}:latest\""
   ]
  },
  {
   "cell_type": "code",
   "execution_count": 8,
   "id": "3820d114",
   "metadata": {},
   "outputs": [],
   "source": [
    "class AutoGluon(Framework):\n",
    "    def __init__(\n",
    "        self,\n",
    "        entry_point,\n",
    "        source_dir=None,\n",
    "        hyperparameters=None,\n",
    "        py_version=\"py3\",\n",
    "        framework_version=None,\n",
    "        image_uri=None,\n",
    "        distributions=None,\n",
    "        **kwargs\n",
    "    ):\n",
    "        super().__init__(\n",
    "            entry_point, source_dir, hyperparameters, image_uri=image_uri, **kwargs\n",
    "        )\n",
    "    \n",
    "    def _configure_distribution(self, distributions):\n",
    "        return\n",
    "    \n",
    "    def create_model(\n",
    "        self,\n",
    "        model_server_workers=None,\n",
    "        role=None,\n",
    "        vpc_config_override=None,\n",
    "        entry_point=None,\n",
    "        source_dir=None,\n",
    "        dependencies=None,\n",
    "        image_name=None,\n",
    "        **kwargs\n",
    "    ):\n",
    "        return None"
   ]
  },
  {
   "cell_type": "code",
   "execution_count": 12,
   "id": "dd50a7f5",
   "metadata": {},
   "outputs": [],
   "source": [
    "tabular_estimator =  AutoGluon(image_uri=training_image_uri,\n",
    "                      role=role,\n",
    "                      entry_point=\"training_scripts/tabular.py\",\n",
    "                      instance_count=1, \n",
    "                      instance_type=\"ml.m5.2xlarge\",\n",
    "                      base_job_name=\"tabular-train\",\n",
    "                      )"
   ]
  },
  {
   "cell_type": "code",
   "execution_count": 13,
   "id": "7d7cb519",
   "metadata": {},
   "outputs": [
    {
     "name": "stdout",
     "output_type": "stream",
     "text": [
      "2021-07-28 17:45:17 Starting - Starting the training job...\n",
      "2021-07-28 17:45:22 Starting - Launching requested ML instancesProfilerReport-1627494317: InProgress\n",
      "......\n",
      "2021-07-28 17:46:47 Starting - Preparing the instances for training.........\n",
      "2021-07-28 17:48:07 Downloading - Downloading input data\n",
      "2021-07-28 17:48:07 Training - Downloading the training image...............\n",
      "2021-07-28 17:50:48 Training - Training image download completed. Training in progress.\u001b[34m2021-07-28 17:50:35,916 sagemaker-training-toolkit INFO     Imported framework sagemaker_mxnet_container.training\u001b[0m\n",
      "\u001b[34m2021-07-28 17:50:35,918 sagemaker-training-toolkit INFO     No GPUs detected (normal if no gpus installed)\u001b[0m\n",
      "\u001b[34m2021-07-28 17:50:35,928 sagemaker_mxnet_container.training INFO     MXNet training environment: {'SM_HOSTS': '[\"algo-1\"]', 'SM_NETWORK_INTERFACE_NAME': 'eth0', 'SM_HPS': '{}', 'SM_USER_ENTRY_POINT': 'tabular.py', 'SM_FRAMEWORK_PARAMS': '{}', 'SM_RESOURCE_CONFIG': '{\"current_host\":\"algo-1\",\"hosts\":[\"algo-1\"],\"network_interface_name\":\"eth0\"}', 'SM_INPUT_DATA_CONFIG': '{}', 'SM_OUTPUT_DATA_DIR': '/opt/ml/output/data', 'SM_CHANNELS': '[]', 'SM_CURRENT_HOST': 'algo-1', 'SM_MODULE_NAME': 'tabular', 'SM_LOG_LEVEL': '20', 'SM_FRAMEWORK_MODULE': 'sagemaker_mxnet_container.training:main', 'SM_INPUT_DIR': '/opt/ml/input', 'SM_INPUT_CONFIG_DIR': '/opt/ml/input/config', 'SM_OUTPUT_DIR': '/opt/ml/output', 'SM_NUM_CPUS': '8', 'SM_NUM_GPUS': '0', 'SM_MODEL_DIR': '/opt/ml/model', 'SM_MODULE_DIR': 's3://sagemaker-us-east-1-152804913371/tabular-train-2021-07-28-17-45-17-166/source/sourcedir.tar.gz', 'SM_TRAINING_ENV': '{\"additional_framework_parameters\":{},\"channel_input_dirs\":{},\"current_host\":\"algo-1\",\"framework_module\":\"sagemaker_mxnet_container.training:main\",\"hosts\":[\"algo-1\"],\"hyperparameters\":{},\"input_config_dir\":\"/opt/ml/input/config\",\"input_data_config\":{},\"input_dir\":\"/opt/ml/input\",\"is_master\":true,\"job_name\":\"tabular-train-2021-07-28-17-45-17-166\",\"log_level\":20,\"master_hostname\":\"algo-1\",\"model_dir\":\"/opt/ml/model\",\"module_dir\":\"s3://sagemaker-us-east-1-152804913371/tabular-train-2021-07-28-17-45-17-166/source/sourcedir.tar.gz\",\"module_name\":\"tabular\",\"network_interface_name\":\"eth0\",\"num_cpus\":8,\"num_gpus\":0,\"output_data_dir\":\"/opt/ml/output/data\",\"output_dir\":\"/opt/ml/output\",\"output_intermediate_dir\":\"/opt/ml/output/intermediate\",\"resource_config\":{\"current_host\":\"algo-1\",\"hosts\":[\"algo-1\"],\"network_interface_name\":\"eth0\"},\"user_entry_point\":\"tabular.py\"}', 'SM_USER_ARGS': '[]', 'SM_OUTPUT_INTERMEDIATE_DIR': '/opt/ml/output/intermediate'}\u001b[0m\n",
      "\u001b[34m2021-07-28 17:50:36,296 sagemaker-training-toolkit INFO     No GPUs detected (normal if no gpus installed)\u001b[0m\n",
      "\u001b[34m2021-07-28 17:50:42,565 sagemaker-training-toolkit INFO     No GPUs detected (normal if no gpus installed)\u001b[0m\n",
      "\u001b[34m2021-07-28 17:50:42,576 sagemaker-training-toolkit INFO     No GPUs detected (normal if no gpus installed)\u001b[0m\n",
      "\u001b[34m2021-07-28 17:50:42,585 sagemaker-training-toolkit INFO     Invoking user script\n",
      "\u001b[0m\n",
      "\u001b[34mTraining Env:\n",
      "\u001b[0m\n",
      "\u001b[34m{\n",
      "    \"additional_framework_parameters\": {},\n",
      "    \"channel_input_dirs\": {},\n",
      "    \"current_host\": \"algo-1\",\n",
      "    \"framework_module\": \"sagemaker_mxnet_container.training:main\",\n",
      "    \"hosts\": [\n",
      "        \"algo-1\"\n",
      "    ],\n",
      "    \"hyperparameters\": {},\n",
      "    \"input_config_dir\": \"/opt/ml/input/config\",\n",
      "    \"input_data_config\": {},\n",
      "    \"input_dir\": \"/opt/ml/input\",\n",
      "    \"is_master\": true,\n",
      "    \"job_name\": \"tabular-train-2021-07-28-17-45-17-166\",\n",
      "    \"log_level\": 20,\n",
      "    \"master_hostname\": \"algo-1\",\n",
      "    \"model_dir\": \"/opt/ml/model\",\n",
      "    \"module_dir\": \"s3://sagemaker-us-east-1-152804913371/tabular-train-2021-07-28-17-45-17-166/source/sourcedir.tar.gz\",\n",
      "    \"module_name\": \"tabular\",\n",
      "    \"network_interface_name\": \"eth0\",\n",
      "    \"num_cpus\": 8,\n",
      "    \"num_gpus\": 0,\n",
      "    \"output_data_dir\": \"/opt/ml/output/data\",\n",
      "    \"output_dir\": \"/opt/ml/output\",\n",
      "    \"output_intermediate_dir\": \"/opt/ml/output/intermediate\",\n",
      "    \"resource_config\": {\n",
      "        \"current_host\": \"algo-1\",\n",
      "        \"hosts\": [\n",
      "            \"algo-1\"\n",
      "        ],\n",
      "        \"network_interface_name\": \"eth0\"\n",
      "    },\n",
      "    \"user_entry_point\": \"tabular.py\"\u001b[0m\n",
      "\u001b[34m}\n",
      "\u001b[0m\n",
      "\u001b[34mEnvironment variables:\n",
      "\u001b[0m\n",
      "\u001b[34mSM_HOSTS=[\"algo-1\"]\u001b[0m\n",
      "\u001b[34mSM_NETWORK_INTERFACE_NAME=eth0\u001b[0m\n",
      "\u001b[34mSM_HPS={}\u001b[0m\n",
      "\u001b[34mSM_USER_ENTRY_POINT=tabular.py\u001b[0m\n",
      "\u001b[34mSM_FRAMEWORK_PARAMS={}\u001b[0m\n",
      "\u001b[34mSM_RESOURCE_CONFIG={\"current_host\":\"algo-1\",\"hosts\":[\"algo-1\"],\"network_interface_name\":\"eth0\"}\u001b[0m\n",
      "\u001b[34mSM_INPUT_DATA_CONFIG={}\u001b[0m\n",
      "\u001b[34mSM_OUTPUT_DATA_DIR=/opt/ml/output/data\u001b[0m\n",
      "\u001b[34mSM_CHANNELS=[]\u001b[0m\n",
      "\u001b[34mSM_CURRENT_HOST=algo-1\u001b[0m\n",
      "\u001b[34mSM_MODULE_NAME=tabular\u001b[0m\n",
      "\u001b[34mSM_LOG_LEVEL=20\u001b[0m\n",
      "\u001b[34mSM_FRAMEWORK_MODULE=sagemaker_mxnet_container.training:main\u001b[0m\n",
      "\u001b[34mSM_INPUT_DIR=/opt/ml/input\u001b[0m\n",
      "\u001b[34mSM_INPUT_CONFIG_DIR=/opt/ml/input/config\u001b[0m\n",
      "\u001b[34mSM_OUTPUT_DIR=/opt/ml/output\u001b[0m\n",
      "\u001b[34mSM_NUM_CPUS=8\u001b[0m\n",
      "\u001b[34mSM_NUM_GPUS=0\u001b[0m\n",
      "\u001b[34mSM_MODEL_DIR=/opt/ml/model\u001b[0m\n",
      "\u001b[34mSM_MODULE_DIR=s3://sagemaker-us-east-1-152804913371/tabular-train-2021-07-28-17-45-17-166/source/sourcedir.tar.gz\u001b[0m\n",
      "\u001b[34mSM_TRAINING_ENV={\"additional_framework_parameters\":{},\"channel_input_dirs\":{},\"current_host\":\"algo-1\",\"framework_module\":\"sagemaker_mxnet_container.training:main\",\"hosts\":[\"algo-1\"],\"hyperparameters\":{},\"input_config_dir\":\"/opt/ml/input/config\",\"input_data_config\":{},\"input_dir\":\"/opt/ml/input\",\"is_master\":true,\"job_name\":\"tabular-train-2021-07-28-17-45-17-166\",\"log_level\":20,\"master_hostname\":\"algo-1\",\"model_dir\":\"/opt/ml/model\",\"module_dir\":\"s3://sagemaker-us-east-1-152804913371/tabular-train-2021-07-28-17-45-17-166/source/sourcedir.tar.gz\",\"module_name\":\"tabular\",\"network_interface_name\":\"eth0\",\"num_cpus\":8,\"num_gpus\":0,\"output_data_dir\":\"/opt/ml/output/data\",\"output_dir\":\"/opt/ml/output\",\"output_intermediate_dir\":\"/opt/ml/output/intermediate\",\"resource_config\":{\"current_host\":\"algo-1\",\"hosts\":[\"algo-1\"],\"network_interface_name\":\"eth0\"},\"user_entry_point\":\"tabular.py\"}\u001b[0m\n",
      "\u001b[34mSM_USER_ARGS=[]\u001b[0m\n",
      "\u001b[34mSM_OUTPUT_INTERMEDIATE_DIR=/opt/ml/output/intermediate\u001b[0m\n",
      "\u001b[34mPYTHONPATH=/opt/ml/code:/usr/local/bin:/usr/lib/python36.zip:/usr/lib/python3.6:/usr/lib/python3.6/lib-dynload:/usr/local/lib/python3.6/dist-packages:/usr/lib/python3/dist-packages\n",
      "\u001b[0m\n",
      "\u001b[34mInvoking script with the following command:\n",
      "\u001b[0m\n",
      "\u001b[34m/usr/bin/python3 tabular.py\n",
      "\n",
      "\u001b[0m\n",
      "\u001b[34mWarning: path already exists! This predictor may overwrite an existing predictor! path=\"/opt/ml/model\"\u001b[0m\n",
      "\u001b[34mBeginning AutoGluon training ...\u001b[0m\n",
      "\u001b[34mAutoGluon will save models to \"/opt/ml/model/\"\u001b[0m\n",
      "\u001b[34mAutoGluon Version:  0.2.0\u001b[0m\n",
      "\u001b[34mTrain Data Rows:    500\u001b[0m\n",
      "\u001b[34mTrain Data Columns: 14\u001b[0m\n",
      "\u001b[34mPreprocessing data ...\u001b[0m\n",
      "\u001b[34mAutoGluon infers your prediction problem is: 'binary' (because only two unique label-values observed).\u001b[0m\n",
      "\u001b[34m#0112 unique label values:  [' >50K', ' <=50K']\u001b[0m\n",
      "\u001b[34m#011If 'binary' is not the correct problem_type, please manually specify the problem_type argument in fit() (You may specify problem_type as one of: ['binary', 'multiclass', 'regression'])\u001b[0m\n",
      "\u001b[34mSelected class <--> label mapping:  class 1 =  >50K, class 0 =  <=50K\u001b[0m\n",
      "\u001b[34m#011Note: For your binary classification, AutoGluon arbitrarily selected which label-value represents positive ( >50K) vs negative ( <=50K) class.\u001b[0m\n",
      "\u001b[34m#011To explicitly set the positive_class, either rename classes to 1 and 0, or specify positive_class in Predictor init.\u001b[0m\n",
      "\u001b[34mUsing Feature Generators to preprocess the data ...\u001b[0m\n",
      "\u001b[34mFitting AutoMLPipelineFeatureGenerator...\u001b[0m\n",
      "\u001b[34m#011Available Memory:                    31192.3 MB\u001b[0m\n",
      "\u001b[34m#011Train Data (Original)  Memory Usage: 0.29 MB (0.0% of available memory)\u001b[0m\n",
      "\u001b[34m#011Inferring data type of each feature based on column values. Set feature_metadata_in to manually specify special dtypes of the features.\u001b[0m\n",
      "\u001b[34m#011Stage 1 Generators:\u001b[0m\n",
      "\u001b[34m#011#011Fitting AsTypeFeatureGenerator...\u001b[0m\n",
      "\u001b[34m#011Stage 2 Generators:\u001b[0m\n",
      "\u001b[34m#011#011Fitting FillNaFeatureGenerator...\u001b[0m\n",
      "\u001b[34m#011Stage 3 Generators:\u001b[0m\n",
      "\u001b[34m#011#011Fitting IdentityFeatureGenerator...\u001b[0m\n",
      "\u001b[34m#011#011Fitting CategoryFeatureGenerator...\u001b[0m\n",
      "\u001b[34m#011#011#011Fitting CategoryMemoryMinimizeFeatureGenerator...\u001b[0m\n",
      "\u001b[34m#011Stage 4 Generators:\u001b[0m\n",
      "\u001b[34m#011#011Fitting DropUniqueFeatureGenerator...\u001b[0m\n",
      "\u001b[34m#011Types of features in original data (raw dtype, special dtypes):\u001b[0m\n",
      "\u001b[34m#011#011('int', [])    : 6 | ['age', 'fnlwgt', 'education-num', 'capital-gain', 'capital-loss', ...]\u001b[0m\n",
      "\u001b[34m#011#011('object', []) : 8 | ['workclass', 'education', 'marital-status', 'occupation', 'relationship', ...]\u001b[0m\n",
      "\u001b[34m#011Types of features in processed data (raw dtype, special dtypes):\u001b[0m\n",
      "\u001b[34m#011#011('category', []) : 8 | ['workclass', 'education', 'marital-status', 'occupation', 'relationship', ...]\u001b[0m\n",
      "\u001b[34m#011#011('int', [])      : 6 | ['age', 'fnlwgt', 'education-num', 'capital-gain', 'capital-loss', ...]\u001b[0m\n",
      "\u001b[34m#0110.1s = Fit runtime\u001b[0m\n",
      "\u001b[34m#01114 features in original data used to generate 14 features in processed data.\u001b[0m\n",
      "\u001b[34m#011Train Data (Processed) Memory Usage: 0.03 MB (0.0% of available memory)\u001b[0m\n",
      "\u001b[34mData preprocessing and feature engineering runtime = 0.07s ...\u001b[0m\n",
      "\u001b[34mAutoGluon will gauge predictive performance using evaluation metric: 'accuracy'\u001b[0m\n",
      "\u001b[34m#011To change this, specify the eval_metric argument of fit()\u001b[0m\n",
      "\u001b[34mAutomatically generating train/validation split with holdout_frac=0.2, Train Rows: 400, Val Rows: 100\u001b[0m\n",
      "\u001b[34mFitting model: KNeighborsUnif ...\u001b[0m\n",
      "\u001b[34m#0110.73#011 = Validation accuracy score\u001b[0m\n",
      "\u001b[34m#0110.0s#011 = Training runtime\u001b[0m\n",
      "\u001b[34m#0110.11s#011 = Validation runtime\u001b[0m\n",
      "\u001b[34mFitting model: KNeighborsDist ...\u001b[0m\n",
      "\u001b[34m#0110.65#011 = Validation accuracy score\u001b[0m\n",
      "\u001b[34m#0110.0s#011 = Training runtime\u001b[0m\n",
      "\u001b[34m#0110.1s#011 = Validation runtime\u001b[0m\n",
      "\u001b[34mFitting model: LightGBMXT ...\u001b[0m\n",
      "\u001b[34m#0110.83#011 = Validation accuracy score\u001b[0m\n",
      "\u001b[34m#0110.4s#011 = Training runtime\u001b[0m\n",
      "\u001b[34m#0110.02s#011 = Validation runtime\u001b[0m\n",
      "\u001b[34mFitting model: LightGBM ...\u001b[0m\n",
      "\u001b[34m#0110.85#011 = Validation accuracy score\u001b[0m\n",
      "\u001b[34m#0110.16s#011 = Training runtime\u001b[0m\n",
      "\u001b[34m#0110.01s#011 = Validation runtime\u001b[0m\n",
      "\u001b[34mFitting model: RandomForestGini ...\u001b[0m\n",
      "\u001b[34m#0110.84#011 = Validation accuracy score\u001b[0m\n",
      "\u001b[34m#0110.64s#011 = Training runtime\u001b[0m\n",
      "\u001b[34m#0110.11s#011 = Validation runtime\u001b[0m\n",
      "\u001b[34mFitting model: RandomForestEntr ...\u001b[0m\n",
      "\u001b[34m#0110.83#011 = Validation accuracy score\u001b[0m\n",
      "\u001b[34m#0110.61s#011 = Training runtime\u001b[0m\n",
      "\u001b[34m#0110.11s#011 = Validation runtime\u001b[0m\n",
      "\u001b[34mFitting model: CatBoost ...\u001b[0m\n",
      "\u001b[34m#0110.84#011 = Validation accuracy score\u001b[0m\n",
      "\u001b[34m#0110.57s#011 = Training runtime\u001b[0m\n",
      "\u001b[34m#0110.01s#011 = Validation runtime\u001b[0m\n",
      "\u001b[34mFitting model: ExtraTreesGini ...\u001b[0m\n",
      "\u001b[34m#0110.82#011 = Validation accuracy score\u001b[0m\n",
      "\u001b[34m#0110.61s#011 = Training runtime\u001b[0m\n",
      "\u001b[34m#0110.11s#011 = Validation runtime\u001b[0m\n",
      "\u001b[34mFitting model: ExtraTreesEntr ...\u001b[0m\n",
      "\u001b[34m#0110.82#011 = Validation accuracy score\u001b[0m\n",
      "\u001b[34m#0110.61s#011 = Training runtime\u001b[0m\n",
      "\u001b[34m#0110.11s#011 = Validation runtime\u001b[0m\n",
      "\u001b[34mFitting model: NeuralNetFastAI ...\u001b[0m\n",
      "\u001b[34mGenerating new fontManager, this may take some time...\u001b[0m\n",
      "\u001b[34m#0110.83#011 = Validation accuracy score\u001b[0m\n",
      "\u001b[34m#0112.4s#011 = Training runtime\u001b[0m\n",
      "\u001b[34m#0110.03s#011 = Validation runtime\u001b[0m\n",
      "\u001b[34mFitting model: XGBoost ...\u001b[0m\n",
      "\u001b[34m#0110.85#011 = Validation accuracy score\u001b[0m\n",
      "\u001b[34m#0110.27s#011 = Training runtime\u001b[0m\n",
      "\u001b[34m#0110.01s#011 = Validation runtime\u001b[0m\n",
      "\u001b[34mFitting model: NeuralNetMXNet ...\u001b[0m\n",
      "\u001b[34m#0110.84#011 = Validation accuracy score\u001b[0m\n",
      "\u001b[34m#0115.94s#011 = Training runtime\u001b[0m\n",
      "\u001b[34m#0110.03s#011 = Validation runtime\u001b[0m\n",
      "\u001b[34mFitting model: LightGBMLarge ...\u001b[0m\n",
      "\u001b[34m#0110.83#011 = Validation accuracy score\u001b[0m\n",
      "\u001b[34m#0110.56s#011 = Training runtime\u001b[0m\n",
      "\u001b[34m#0110.02s#011 = Validation runtime\u001b[0m\n",
      "\u001b[34mFitting model: WeightedEnsemble_L2 ...\u001b[0m\n",
      "\u001b[34m#0110.85#011 = Validation accuracy score\u001b[0m\n",
      "\u001b[34m#0110.35s#011 = Training runtime\u001b[0m\n",
      "\u001b[34m#0110.0s#011 = Validation runtime\u001b[0m\n",
      "\u001b[34mAutoGluon training complete, total runtime = 14.91s ...\u001b[0m\n",
      "\u001b[34mTabularPredictor saved. To load, use: predictor = TabularPredictor.load(\"/opt/ml/model/\")\u001b[0m\n",
      "\u001b[34m2021-07-28 17:51:04,190 sagemaker-training-toolkit INFO     Reporting training SUCCESS\u001b[0m\n",
      "\n",
      "2021-07-28 17:51:14 Uploading - Uploading generated training model\n",
      "2021-07-28 17:51:14 Completed - Training job completed\n",
      "Training seconds: 197\n",
      "Billable seconds: 197\n"
     ]
    }
   ],
   "source": [
    "tabular_estimator.fit()"
   ]
  },
  {
   "cell_type": "code",
   "execution_count": 15,
   "id": "fe90ef1c",
   "metadata": {},
   "outputs": [],
   "source": [
    "s3_model_artifact = tabular_estimator.model_data"
   ]
  },
  {
   "cell_type": "code",
   "execution_count": null,
   "id": "c8e61763",
   "metadata": {},
   "outputs": [],
   "source": []
  },
  {
   "cell_type": "code",
   "execution_count": 17,
   "id": "16752d4e",
   "metadata": {},
   "outputs": [],
   "source": [
    "model = MXNetModel(model_data=s3_model_artifact, \n",
    "                   role=role, \n",
    "                   source_dir=\"inference_scripts\",\n",
    "                   entry_point=\"tabular_serve.py\",\n",
    "                   image_uri=serving_image_uri\n",
    ")\n",
    "model.framework_version = \"1.8.0\""
   ]
  },
  {
   "cell_type": "code",
   "execution_count": 18,
   "id": "5ac375b9",
   "metadata": {},
   "outputs": [
    {
     "name": "stdout",
     "output_type": "stream",
     "text": [
      "-----------------!"
     ]
    }
   ],
   "source": [
    "predictor = model.deploy(initial_instance_count=1, instance_type=\"ml.m4.xlarge\")"
   ]
  },
  {
   "cell_type": "code",
   "execution_count": 22,
   "id": "bdcc6efe",
   "metadata": {},
   "outputs": [],
   "source": [
    "from sagemaker.serializers import CSVSerializer\n",
    "predictor.serializer = CSVSerializer()"
   ]
  },
  {
   "cell_type": "code",
   "execution_count": 20,
   "id": "5055d5aa",
   "metadata": {},
   "outputs": [],
   "source": [
    "df = pd.read_csv(\"https://autogluon.s3.amazonaws.com/datasets/Inc/train.csv\")"
   ]
  },
  {
   "cell_type": "code",
   "execution_count": 24,
   "id": "b2dc560b",
   "metadata": {},
   "outputs": [
    {
     "data": {
      "text/plain": [
       "[[0.9721353054046631, 0.027864700183272362],\n",
       " [0.9936944842338562, 0.006305492017418146],\n",
       " [0.9840673804283142, 0.015932617709040642],\n",
       " [0.8471196293830872, 0.15288037061691284],\n",
       " [0.9168673157691956, 0.08313269913196564],\n",
       " [0.2918594479560852, 0.7081405520439148],\n",
       " [0.7997081279754639, 0.20029188692569733],\n",
       " [0.8797551393508911, 0.12024485319852829],\n",
       " [0.9925820827484131, 0.007417936343699694],\n",
       " [0.646324872970581, 0.35367509722709656]]"
      ]
     },
     "execution_count": 24,
     "metadata": {},
     "output_type": "execute_result"
    }
   ],
   "source": [
    "predictor.predict(df.iloc[:10, :-1].values) # test inference with SDK"
   ]
  },
  {
   "cell_type": "code",
   "execution_count": null,
   "id": "accb038b",
   "metadata": {},
   "outputs": [],
   "source": []
  },
  {
   "cell_type": "markdown",
   "id": "0e7e5b98",
   "metadata": {},
   "source": [
    "## Deploy with boto3"
   ]
  },
  {
   "cell_type": "code",
   "execution_count": 37,
   "id": "db4aedb7",
   "metadata": {},
   "outputs": [],
   "source": [
    "sm_client = boto3.client(\"sagemaker\")\n",
    "smrt_client = boto3.client(\"sagemaker-runtime\")\n",
    "s3_client = boto3.client(\"s3\")"
   ]
  },
  {
   "cell_type": "code",
   "execution_count": 40,
   "id": "d15708e1",
   "metadata": {},
   "outputs": [],
   "source": [
    "# !aws sagemaker describe-endpoint --endpoint-name {predictor.endpoint_name}"
   ]
  },
  {
   "cell_type": "code",
   "execution_count": 79,
   "id": "1ef5c575",
   "metadata": {},
   "outputs": [],
   "source": [
    "import tarfile\n",
    "from io import BytesIO\n",
    "import os\n",
    "_, _, model_bucket, *model_key = s3_model_artifact.split(\"/\")\n",
    "model_key = \"/\".join(model_key)\n",
    "\n",
    "s3_client.download_file(model_bucket, model_key, \"model.tar.gz\")\n",
    "\n",
    "with tarfile.open(\"model.tar.gz\", \"r:gz\") as model_tar:\n",
    "    with tarfile.open(\"model_code.tar.gz\", \"w:gz\") as artifact_tar:\n",
    "        for file in model_tar:\n",
    "            if file.isfile():\n",
    "                buf = model_tar.extractfile(file).read()\n",
    "                tar_info = tarfile.TarInfo(file.name)\n",
    "                tar_info.size = len(buf)\n",
    "                artifact_tar.addfile(tar_info, BytesIO(buf))\n",
    "        artifact_tar.add(\"inference_scripts/\", arcname=\"code\")\n",
    "\n",
    "s3_code_artifact_key = \"autogluon/tabular-test/model_code.tar.gz\"\n",
    "s3_client.upload_file(\"model_code.tar.gz\", bucket, s3_code_artifact_key)\n",
    "\n",
    "os.remove(\"model.tar.gz\")\n",
    "os.remove(\"model_code.tar.gz\")"
   ]
  },
  {
   "cell_type": "code",
   "execution_count": 80,
   "id": "50748827",
   "metadata": {},
   "outputs": [],
   "source": [
    "now = int(time.time())\n",
    "model_name = f\"autogluon-example-mode-{now}\"\n",
    "endpoint_config_name = f\"autogluon-example-endpoint-config-{now}\"\n",
    "endpoint_name = f\"autogluon-example-endpoint-{now}\""
   ]
  },
  {
   "cell_type": "code",
   "execution_count": 82,
   "id": "223288bb",
   "metadata": {},
   "outputs": [],
   "source": [
    "create_model_response = sm_client.create_model(\n",
    "      ModelName=model_name,\n",
    "      PrimaryContainer={\n",
    "          'Image': serving_image_uri,\n",
    "          'Mode': 'SingleModel',\n",
    "          'ModelDataUrl': f\"s3://{bucket}/{s3_code_artifact_key}\",\n",
    "          'Environment': {\n",
    "            \"SAGEMAKER_CONTAINER_LOG_LEVEL\": \"20\",\n",
    "            \"SAGEMAKER_PROGRAM\": \"tabular_serve.py\",\n",
    "            \"SAGEMAKER_REGION\": \"us-east-1\",\n",
    "            \"SAGEMAKER_SUBMIT_DIRECTORY\": \"s3://sagemaker-us-east-1-152804913371/autogluon-inference-cpu-2021-07-28-17-55-51-844/model.tar.gz\"\n",
    "          }\n",
    "      },\n",
    "      ExecutionRoleArn=role,\n",
    "\n",
    "  )"
   ]
  },
  {
   "cell_type": "code",
   "execution_count": 83,
   "id": "16fc591e",
   "metadata": {},
   "outputs": [],
   "source": [
    "create_endpoint_conf_resp = sm_client.create_endpoint_config(EndpointConfigName=endpoint_config_name,\n",
    "                                 ProductionVariants=[dict(VariantName=\"AllTraffic\",\n",
    "                                                          ModelName=model_name,\n",
    "                                                          InitialInstanceCount=1,\n",
    "                                                          InstanceType=\"ml.m4.xlarge\",\n",
    "                                                          InitialVariantWeight=1)])"
   ]
  },
  {
   "cell_type": "code",
   "execution_count": 85,
   "id": "293964b3",
   "metadata": {},
   "outputs": [],
   "source": [
    "create_endpoint_resp = sm_client.create_endpoint(EndpointName=endpoint_name,\n",
    "                          EndpointConfigName=endpoint_config_name\n",
    "                     )"
   ]
  },
  {
   "cell_type": "code",
   "execution_count": 88,
   "id": "8b75c684",
   "metadata": {},
   "outputs": [],
   "source": [
    "import time\n",
    "while sm_client.describe_endpoint(EndpointName=endpoint_name)[\"EndpointStatus\"] == \"Creating\":\n",
    "    time.sleep(30)"
   ]
  },
  {
   "cell_type": "code",
   "execution_count": 89,
   "id": "0cecad49",
   "metadata": {},
   "outputs": [],
   "source": [
    "sample_records = \"\\n\".join([\",\".join(map(str,row)) for row in df.iloc[:10, :-1].values.tolist()])"
   ]
  },
  {
   "cell_type": "code",
   "execution_count": 92,
   "id": "17f3203c",
   "metadata": {},
   "outputs": [],
   "source": [
    "predictions = smrt_client.invoke_endpoint(\n",
    "    EndpointName=endpoint_name, \n",
    "    Body=sample_records.encode(\"utf8\"), \n",
    "    ContentType=\"text/csv\")[\"Body\"].read()"
   ]
  },
  {
   "cell_type": "code",
   "execution_count": 100,
   "id": "423713f3",
   "metadata": {},
   "outputs": [
    {
     "data": {
      "text/plain": [
       "[[0.9721353054046631, 0.027864700183272362],\n",
       " [0.9936944842338562, 0.006305492017418146],\n",
       " [0.9840673804283142, 0.015932617709040642],\n",
       " [0.8471196293830872, 0.15288037061691284],\n",
       " [0.9168673157691956, 0.08313269913196564],\n",
       " [0.2918594479560852, 0.7081405520439148],\n",
       " [0.7997081279754639, 0.20029188692569733],\n",
       " [0.8797551393508911, 0.12024485319852829],\n",
       " [0.9925820827484131, 0.007417936343699694],\n",
       " [0.646324872970581, 0.35367509722709656]]"
      ]
     },
     "execution_count": 100,
     "metadata": {},
     "output_type": "execute_result"
    }
   ],
   "source": [
    "import json\n",
    "json.loads(predictions)"
   ]
  },
  {
   "cell_type": "code",
   "execution_count": null,
   "id": "4c3ee702",
   "metadata": {},
   "outputs": [],
   "source": []
  }
 ],
 "metadata": {
  "kernelspec": {
   "display_name": "conda_python3",
   "language": "python",
   "name": "conda_python3"
  },
  "language_info": {
   "codemirror_mode": {
    "name": "ipython",
    "version": 3
   },
   "file_extension": ".py",
   "mimetype": "text/x-python",
   "name": "python",
   "nbconvert_exporter": "python",
   "pygments_lexer": "ipython3",
   "version": "3.6.13"
  }
 },
 "nbformat": 4,
 "nbformat_minor": 5
}
